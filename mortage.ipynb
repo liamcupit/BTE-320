{
  "nbformat": 4,
  "nbformat_minor": 0,
  "metadata": {
    "colab": {
      "provenance": [],
      "authorship_tag": "ABX9TyNARZlzfAD4svtEzM1ELFSO",
      "include_colab_link": true
    },
    "kernelspec": {
      "name": "python3",
      "display_name": "Python 3"
    },
    "language_info": {
      "name": "python"
    }
  },
  "cells": [
    {
      "cell_type": "markdown",
      "metadata": {
        "id": "view-in-github",
        "colab_type": "text"
      },
      "source": [
        "<a href=\"https://colab.research.google.com/github/liamcupit/BTE-320/blob/main/mortage.ipynb\" target=\"_parent\"><img src=\"https://colab.research.google.com/assets/colab-badge.svg\" alt=\"Open In Colab\"/></a>"
      ]
    },
    {
      "cell_type": "code",
      "execution_count": 9,
      "metadata": {
        "colab": {
          "base_uri": "https://localhost:8080/"
        },
        "id": "zcAP5VYONUqD",
        "outputId": "f97f6958-8ca3-4985-afe9-2cf7f59becc5"
      },
      "outputs": [
        {
          "output_type": "stream",
          "name": "stdout",
          "text": [
            "6000.000004656286\n",
            "6\n",
            "6\n"
          ]
        }
      ],
      "source": [
        "class Mortgage:\n",
        "        def __init__(self, amount, maturity, interest):\n",
        "            self.amount = amount\n",
        "            self.maturity = maturity\n",
        "            self.__interest = interest\n",
        "\n",
        "        def __str__(self):\n",
        "            return f'Mortgage info: \\n Initial lean amount: {self.amount} $\\n Maturity term: {self.maturity} years \\n Interest rate: {self.interest} %'\n",
        "\n",
        "        def get_interest(self):\n",
        "            return self.__interest\n",
        "\n",
        "        def set_interest(self, newInterest):\n",
        "            if newInterest >= 0:\n",
        "                self.__interest = newInterest\n",
        "            else:\n",
        "                print(\"Interest must be positive!\")\n",
        "\n",
        "        def payment(self):\n",
        "            term = self.maturity * 12\n",
        "            r = self.__interest / 100\n",
        "            return self.amount * (r * (1 + r) ** term) / ((1 + r) ** term - 1)\n",
        "\n",
        "\n",
        "m = Mortgage(100000,30,6)\n",
        "\n",
        "print(m.payment())\n",
        "\n",
        "print(m.get_interest())\n",
        "\n",
        "m.set_interest(6)\n",
        "print(m.get_interest())"
      ]
    }
  ]
}