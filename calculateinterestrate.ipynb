{
  "nbformat": 4,
  "nbformat_minor": 0,
  "metadata": {
    "colab": {
      "provenance": [],
      "authorship_tag": "ABX9TyMDzd0Ziv0HT+rFd2yUU1mj",
      "include_colab_link": true
    },
    "kernelspec": {
      "name": "python3",
      "display_name": "Python 3"
    },
    "language_info": {
      "name": "python"
    }
  },
  "cells": [
    {
      "cell_type": "markdown",
      "metadata": {
        "id": "view-in-github",
        "colab_type": "text"
      },
      "source": [
        "<a href=\"https://colab.research.google.com/github/liamcupit/BTE-320/blob/main/calculateinterestrate.ipynb\" target=\"_parent\"><img src=\"https://colab.research.google.com/assets/colab-badge.svg\" alt=\"Open In Colab\"/></a>"
      ]
    },
    {
      "cell_type": "code",
      "execution_count": null,
      "metadata": {
        "colab": {
          "base_uri": "https://localhost:8080/"
        },
        "id": "UtDLngMqwGtN",
        "outputId": "a0e930ca-5d0a-4eef-833f-36f6f947faa5"
      },
      "outputs": [
        {
          "output_type": "stream",
          "name": "stdout",
          "text": [
            "Enter the deposit amount: 5000\n",
            "Final amount after applying interest is $5162.50.\n"
          ]
        }
      ],
      "source": [
        "def calculate_interest_rate(deposit_amount):\n",
        "    if deposit_amount > 10000:\n",
        "        interest_rate = 3.5\n",
        "    elif 1000 <= deposit_amount <= 10000:\n",
        "        interest_rate = 3.25\n",
        "    else:\n",
        "        interest_rate = 3.0\n",
        "\n",
        "    return interest_rate\n",
        "\n",
        "def calculate_final_amount(deposit_amount):\n",
        "    interest_rate = calculate_interest_rate(deposit_amount)\n",
        "    interest = (interest_rate / 100) * deposit_amount\n",
        "    final_amount = deposit_amount + interest\n",
        "    return final_amount\n",
        "deposit = float(input(\"Enter the deposit amount: \"))\n",
        "final_amount = calculate_final_amount(deposit)\n",
        "print(f\"Final amount after applying interest is ${final_amount:.2f}.\")\n"
      ]
    }
  ]
}