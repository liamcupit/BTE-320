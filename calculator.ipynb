{
  "nbformat": 4,
  "nbformat_minor": 0,
  "metadata": {
    "colab": {
      "provenance": [],
      "authorship_tag": "ABX9TyP26zDALQQT3KLSehyGNlaI",
      "include_colab_link": true
    },
    "kernelspec": {
      "name": "python3",
      "display_name": "Python 3"
    },
    "language_info": {
      "name": "python"
    }
  },
  "cells": [
    {
      "cell_type": "markdown",
      "metadata": {
        "id": "view-in-github",
        "colab_type": "text"
      },
      "source": [
        "<a href=\"https://colab.research.google.com/github/liamcupit/BTE-320/blob/main/calculator.ipynb\" target=\"_parent\"><img src=\"https://colab.research.google.com/assets/colab-badge.svg\" alt=\"Open In Colab\"/></a>"
      ]
    },
    {
      "cell_type": "code",
      "source": [
        "while True:\n",
        "  operator = input(\"What operator would you like to use: \\n+\\n-\\n*\\n/\\n//\\n**\\n%\\n\")\n",
        "  if operator == \"break\":\n",
        "    break\n",
        "  else:\n",
        "    print(\"invalid operator\")\n",
        "    continue\n",
        "  num1 = float(input(\"Enter first number: \"))\n",
        "  num2 = float(input(\"Enter second number: \"))\n",
        "  if operator == \"+\":\n",
        "    result = num1 + num2\n",
        "    print(result)\n",
        "  elif operator == \"-\":\n",
        "    result = num1 - num2\n",
        "    print(result)\n",
        "  elif operator == \"*\":\n",
        "    result = num1 * num2\n",
        "    print(result)\n",
        "  elif operator == \"/\":\n",
        "    result = num1 / num2\n",
        "    print(result)\n",
        "  elif operator == \"//\":\n",
        "    result = num1 // num2\n",
        "    print(result)\n",
        "  elif operator == \"**\":\n",
        "    result = num1 ** num2\n",
        "    print(result)\n",
        "  elif operator == \"%\":\n",
        "    result = num1 % num2\n",
        "    print(result)"
      ],
      "metadata": {
        "colab": {
          "base_uri": "https://localhost:8080/"
        },
        "id": "B-FM7xLh7uD_",
        "outputId": "91998833-969f-4073-e7da-97e7287c7f8e"
      },
      "execution_count": null,
      "outputs": [
        {
          "output_type": "stream",
          "name": "stdout",
          "text": [
            "What operator would you like to use: \n",
            "+\n",
            "-\n",
            "*\n",
            "/\n",
            "//\n",
            "**\n",
            "%\n",
            "^\n",
            "invalid operator\n"
          ]
        }
      ]
    }
  ]
}