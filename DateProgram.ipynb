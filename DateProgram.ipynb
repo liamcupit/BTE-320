{
  "nbformat": 4,
  "nbformat_minor": 0,
  "metadata": {
    "colab": {
      "provenance": [],
      "authorship_tag": "ABX9TyO2ZJzEi0rifhCw4OLn4YJJ",
      "include_colab_link": true
    },
    "kernelspec": {
      "name": "python3",
      "display_name": "Python 3"
    },
    "language_info": {
      "name": "python"
    }
  },
  "cells": [
    {
      "cell_type": "markdown",
      "metadata": {
        "id": "view-in-github",
        "colab_type": "text"
      },
      "source": [
        "<a href=\"https://colab.research.google.com/github/liamcupit/BTE-320/blob/main/daymonthyear.ipynb\" target=\"_parent\"><img src=\"https://colab.research.google.com/assets/colab-badge.svg\" alt=\"Open In Colab\"/></a>"
      ]
    },
    {
      "cell_type": "code",
      "source": [
        "date = input('enter a date: MM/DD/YYYY')\n",
        "\n",
        "month = date[0:2]\n",
        "print(f'Month is {month}')\n",
        "\n",
        "day = date[3:5]\n",
        "print(f'Day is {day}')\n",
        "\n",
        "year = date[6:10]\n",
        "print(f'Year is {year}')"
      ],
      "metadata": {
        "colab": {
          "base_uri": "https://localhost:8080/"
        },
        "id": "Sn9a6qlCEKVF",
        "outputId": "fd0c553a-5f13-441f-8589-e167eb71ea61"
      },
      "execution_count": 4,
      "outputs": [
        {
          "output_type": "stream",
          "name": "stdout",
          "text": [
            "enter a date: MM/DD/YYYY10/29/2003\n",
            "Month is 10\n",
            "Day is 29\n",
            "Year is 2003\n"
          ]
        }
      ]
    }
  ]
}
