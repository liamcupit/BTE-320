{
  "nbformat": 4,
  "nbformat_minor": 0,
  "metadata": {
    "colab": {
      "provenance": [],
      "authorship_tag": "ABX9TyMV96Jbexofwzs/jr/G1PCd",
      "include_colab_link": true
    },
    "kernelspec": {
      "name": "python3",
      "display_name": "Python 3"
    },
    "language_info": {
      "name": "python"
    }
  },
  "cells": [
    {
      "cell_type": "markdown",
      "metadata": {
        "id": "view-in-github",
        "colab_type": "text"
      },
      "source": [
        "<a href=\"https://colab.research.google.com/github/liamcupit/BTE-320/blob/main/listappend.ipynb\" target=\"_parent\"><img src=\"https://colab.research.google.com/assets/colab-badge.svg\" alt=\"Open In Colab\"/></a>"
      ]
    },
    {
      "cell_type": "code",
      "execution_count": null,
      "metadata": {
        "colab": {
          "base_uri": "https://localhost:8080/"
        },
        "id": "s9eGSpfKUsLH",
        "outputId": "a883a9af-57fe-4243-f6ef-668ba4e4fede"
      },
      "outputs": [
        {
          "name": "stdout",
          "output_type": "stream",
          "text": [
            "Enter a value: 1\n",
            "[1]\n",
            "Enter a value: 2\n",
            "[1, 2]\n",
            "Enter a value: 3\n",
            "[1, 2, 3]\n",
            "Enter a value: 0\n"
          ]
        }
      ],
      "source": [
        "L = []\n",
        "i = 1\n",
        "\n",
        "while i > 0:\n",
        "  number = int(input('Enter a value: '))\n",
        "  i = number\n",
        "\n",
        "  if i == 0:\n",
        "    break\n",
        "  else:\n",
        "    L.append(number)\n",
        "    print(L)"
      ]
    }
  ]
}
